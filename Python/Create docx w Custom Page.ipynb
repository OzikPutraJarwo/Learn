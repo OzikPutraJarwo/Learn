{
 "cells": [
  {
   "cell_type": "code",
   "execution_count": 1,
   "metadata": {},
   "outputs": [],
   "source": [
    "from docx import Document\n",
    "from docx.enum.text import WD_BREAK\n",
    "\n",
    "# Membuat dokumen baru\n",
    "doc = Document()\n",
    "\n",
    "# Menambahkan halaman kosong\n",
    "for _ in range(107):\n",
    "    # Menambahkan paragraf kosong untuk halaman pertama\n",
    "    paragraph = doc.add_paragraph('')\n",
    "    if _ < 106:  # Menambahkan page break kecuali di halaman terakhir\n",
    "        run = paragraph.add_run()\n",
    "        run.add_break(WD_BREAK.PAGE)\n",
    "\n",
    "# Menyimpan dokumen\n",
    "doc.save('./assets/file_107_pages.docx')"
   ]
  }
 ],
 "metadata": {
  "kernelspec": {
   "display_name": "Python 3",
   "language": "python",
   "name": "python3"
  },
  "language_info": {
   "codemirror_mode": {
    "name": "ipython",
    "version": 3
   },
   "file_extension": ".py",
   "mimetype": "text/x-python",
   "name": "python",
   "nbconvert_exporter": "python",
   "pygments_lexer": "ipython3",
   "version": "3.12.3"
  }
 },
 "nbformat": 4,
 "nbformat_minor": 2
}
